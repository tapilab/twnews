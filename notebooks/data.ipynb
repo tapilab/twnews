{
 "metadata": {
  "name": ""
 },
 "nbformat": 3,
 "nbformat_minor": 0,
 "worksheets": [
  {
   "cells": [
    {
     "cell_type": "markdown",
     "metadata": {},
     "source": [
      "# Data\n",
      "\n",
      "This notebook explains how we collected data for this project. The environment variable `$TWNEWS_DATA` is used throughout for the directory to read/write data. We set it to `/data/twnews`."
     ]
    },
    {
     "cell_type": "markdown",
     "metadata": {},
     "source": [
      "## Scoring URLs by political bias\n",
      "\n",
      "<http://balancestudy.org> is a project to score news sites by their political leanings. A large positive score indicates a liberal site, a large negative score indicates a conservative site."
     ]
    },
    {
     "cell_type": "code",
     "collapsed": false,
     "input": [
      "% pylab inline\n",
      "import numpy as np\n",
      "import twnews.balance as balance"
     ],
     "language": "python",
     "metadata": {},
     "outputs": [
      {
       "output_type": "stream",
       "stream": "stdout",
       "text": [
        "Populating the interactive namespace from numpy and matplotlib\n"
       ]
      }
     ],
     "prompt_number": 30
    },
    {
     "cell_type": "code",
     "collapsed": false,
     "input": [
      "# We first fetch the scores from balancestudy.org and write to a text file.\n",
      "balance.fetch_balance_scores()"
     ],
     "language": "python",
     "metadata": {},
     "outputs": [],
     "prompt_number": 31
    },
    {
     "cell_type": "code",
     "collapsed": false,
     "input": [
      "# Next, we read the text file into a Python dict\n",
      "url_scores = balance.load_balance_scores()"
     ],
     "language": "python",
     "metadata": {},
     "outputs": [],
     "prompt_number": 32
    },
    {
     "cell_type": "code",
     "collapsed": false,
     "input": [
      "# Let's see the top 5 conservative and liberal sites.\n",
      "sorted_scores = sorted(url_scores.items(), key=lambda x: x[1])\n",
      "print 'conservative:\\n', '\\n'.join(['%s\\t%f' % (u, s) for u, s in sorted_scores[:5]])\n",
      "print 'liberal:\\n', '\\n'.join(['%s\\t%f' % (u, s) for u, s in sorted_scores[::-1][:5:]])"
     ],
     "language": "python",
     "metadata": {},
     "outputs": [
      {
       "output_type": "stream",
       "stream": "stdout",
       "text": [
        "conservative:\n",
        "http://billoreilly.com\t-0.993479\n",
        "http://rushlimbaugh.com\t-0.987333\n",
        "http://glennbeck.com\t-0.968680\n",
        "http://weaselzippers.us\t-0.953369\n",
        "http://humanevents.com\t-0.946453\n",
        "liberal:\n",
        "http://washingtonmonthly.com\t0.890282\n",
        "http://thinkprogress.org\t0.885619\n",
        "http://thecarpetbaggerreport.com\t0.873459\n",
        "http://downwithtyranny.blogspot.com\t0.834248\n",
        "http://brianbeutler.com\t0.782582\n"
       ]
      }
     ],
     "prompt_number": 33
    },
    {
     "cell_type": "code",
     "collapsed": false,
     "input": [
      "# Let's print some statistics of these scores.\n",
      "scores = url_scores.values()\n",
      "fig = hist(scores, 30)\n",
      "print 'n=%d mean=%.3f std=%.3f' % (len(scores), np.mean(scores), np.std(scores))"
     ],
     "language": "python",
     "metadata": {},
     "outputs": [
      {
       "output_type": "stream",
       "stream": "stdout",
       "text": [
        "n=7619 mean=0.167 std=0.244\n"
       ]
      },
      {
       "metadata": {},
       "output_type": "display_data",
       "png": "[encoded data removed]",
       "text": [
        "<matplotlib.figure.Figure at 0x104ffba50>"
       ]
      }
     ],
     "prompt_number": 34
    },
    {
     "cell_type": "markdown",
     "metadata": {},
     "source": [
      "Looks like a liberal skew."
     ]
    },
    {
     "cell_type": "markdown",
     "metadata": {},
     "source": [
      "## Collecting tweets mentioning certain URLs"
     ]
    },
    {
     "cell_type": "markdown",
     "metadata": {},
     "source": [
      "Next, we need a sample of tweets that link to one of the URLs in our dataset.\n",
      "\n",
      "One possible problem is the extensive use of URL shorteners on Twitter (e.g., <http://bit.ly>). Fortunately, the Twitter REST API by default searches the expanded URL. So, consider [this tweet](https://twitter.com/JohnGaltTx/status/454061949135769601). The url <http://urbangrounds.com/2013/04/art-acevedo-puppet/> has been shortened to <http://goo.gl/dkzwV>. Even though the term \"urbangrounds.com\" does not appear anywhere in the tweet (nor in the json object returned), the [Twitter Search API](https://dev.twitter.com/docs/api/1.1/get/search/tweets) returns this tweet.\n",
      "\n",
      "To collect similar such tweets, we iteratively submit each URL as a search query, storing up to 100 results per query. We loop infinitely, sleeping when we hit the Twitter rate limit."
     ]
    },
    {
     "cell_type": "markdown",
     "metadata": {},
     "source": [
      "To launch the collection script, you'll need to first set environmental variables for your Twitter OAuth credentials. In a bash environment, this would be like:\n",
      "\n",
      "```bash\n",
      "export TW_CONSUMER_KEY=aaa\n",
      "export TW_CONSUMER_SECRET=bbb\n",
      "export TW_ACCESS_TOKEN=ccc\n",
      "export TW_ACCESS_TOKEN_SECRET=ddd\n",
      "```\n",
      "\n",
      "Then, you can run:\n",
      "\n",
      "`python -u -m twnews.search_url_tweets`\n",
      "\n",
      "(If you haven't installed `twutil`, do so with `pip install twutil`)."
     ]
    },
    {
     "cell_type": "markdown",
     "metadata": {},
     "source": [
      "In order to make our results reproducible, we will provide a list of tweet IDs included in our study, which one can then use the Twitter API to download."
     ]
    },
    {
     "cell_type": "markdown",
     "metadata": {},
     "source": [
      "**TODO:** This process will return many tweets from the official account for an organization (e.g., `SeriouslyOMGWTF` is the top user tweeting links to <http://seriouslyomg.com>). We can filter these by removing the top *k* most popular screen names per URL."
     ]
    },
    {
     "cell_type": "markdown",
     "metadata": {},
     "source": [
      "### Data statistics\n",
      "\n",
      "We can print out some statistics of the tweets collected from the method above like so:\n",
      "\n",
      "`python -m twnews.tweet_stats`\n",
      "\n",
      "```\n",
      "                  # urls: 3407\n",
      "                # tweets: 293892\n",
      "                 # users: 131389\n",
      "        # url-user pairs: 180101\n",
      "       # users w/1 tweet: 105116\n",
      "        # liberal tweets: 259120\n",
      "   # conservative tweets: 34290\n",
      "          avg. url score: 0.194\n",
      "```\n",
      "\n",
      "(These stats are from about 12 hours of collection.)"
     ]
    }
   ],
   "metadata": {}
  }
 ]
}