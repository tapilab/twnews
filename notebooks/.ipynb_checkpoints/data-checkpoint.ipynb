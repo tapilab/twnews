{
 "metadata": {
  "name": ""
 },
 "nbformat": 3,
 "nbformat_minor": 0,
 "worksheets": [
  {
   "cells": [
    {
     "cell_type": "markdown",
     "metadata": {},
     "source": [
      "# Data\n",
      "\n",
      "This notebook explains how we collected data for this project. The environment variable `$TWNEWS_DATA` is used throughout for the directory to read/write data. We set it to `/data/twnews`."
     ]
    },
    {
     "cell_type": "markdown",
     "metadata": {},
     "source": [
      "## Scoring URLs by political bias\n",
      "\n",
      "<http://balancestudy.org> is a project to score news sites by their political leanings. A large positive score indicates a liberal site, a large negative score indicates a conservative site."
     ]
    },
    {
     "cell_type": "code",
     "collapsed": false,
     "input": [
      "import twnews.balance as balance"
     ],
     "language": "python",
     "metadata": {},
     "outputs": [],
     "prompt_number": 2
    },
    {
     "cell_type": "code",
     "collapsed": false,
     "input": [
      "# We first fetch the scores from balancestudy.org and write to a text file.\n",
      "balance.fetch_balance_scores()"
     ],
     "language": "python",
     "metadata": {},
     "outputs": [],
     "prompt_number": 3
    },
    {
     "cell_type": "code",
     "collapsed": false,
     "input": [
      "# Next, we read the text file into a Python dict\n",
      "url_scores = balance.load_balance_scores()"
     ],
     "language": "python",
     "metadata": {},
     "outputs": [],
     "prompt_number": 10
    },
    {
     "cell_type": "code",
     "collapsed": false,
     "input": [
      "# Let's see the top 5 conservative and liberal sites.\n",
      "sorted_scores = sorted(url_scores.items(), key=lambda x: x[1])\n",
      "print 'conservative:\\n', '\\n'.join(['%s\\t%f' % (u, s) for u, s in sorted_scores[:5]])\n",
      "print 'liberal:\\n', '\\n'.join(['%s\\t%f' % (u, s) for u, s in sorted_scores[::-1][:5:]])"
     ],
     "language": "python",
     "metadata": {},
     "outputs": [
      {
       "output_type": "stream",
       "stream": "stdout",
       "text": [
        "conservative:\n",
        "http://billoreilly.com\t-0.993479\n",
        "http://rushlimbaugh.com\t-0.987333\n",
        "http://glennbeck.com\t-0.968680\n",
        "http://weaselzippers.us\t-0.953369\n",
        "http://humanevents.com\t-0.946453\n",
        "liberal:\n",
        "http://washingtonmonthly.com\t0.890282\n",
        "http://thinkprogress.org\t0.885619\n",
        "http://thecarpetbaggerreport.com\t0.873459\n",
        "http://downwithtyranny.blogspot.com\t0.834248\n",
        "http://brianbeutler.com\t0.782582\n"
       ]
      }
     ],
     "prompt_number": 17
    },
    {
     "cell_type": "markdown",
     "metadata": {},
     "source": [
      "## Collecting tweets mentioning certain URLs"
     ]
    },
    {
     "cell_type": "code",
     "collapsed": false,
     "input": [],
     "language": "python",
     "metadata": {},
     "outputs": []
    }
   ],
   "metadata": {}
  }
 ]
}